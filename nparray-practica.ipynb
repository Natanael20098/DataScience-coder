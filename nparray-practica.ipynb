{
 "cells": [
  {
   "cell_type": "code",
   "execution_count": 3,
   "metadata": {},
   "outputs": [
    {
     "data": {
      "text/plain": [
       "array([1, 2, 3, 4])"
      ]
     },
     "execution_count": 3,
     "metadata": {},
     "output_type": "execute_result"
    }
   ],
   "source": [
    "import numpy as np\n",
    "\n",
    "npa = np.array([1,2,3,4])\n",
    "\n",
    "npa\n"
   ]
  },
  {
   "cell_type": "code",
   "execution_count": 6,
   "metadata": {},
   "outputs": [
    {
     "data": {
      "text/plain": [
       "array([40, 40, 40, 40, 40, 40, 40, 40, 40, 40])"
      ]
     },
     "execution_count": 6,
     "metadata": {},
     "output_type": "execute_result"
    }
   ],
   "source": [
    "np.full(10, 40)"
   ]
  },
  {
   "cell_type": "code",
   "execution_count": 8,
   "metadata": {},
   "outputs": [
    {
     "data": {
      "text/plain": [
       "array([[ 33,  49, 172, 135, 124, 114,  49, 166,  33,  65,  11,  16,  95,\n",
       "        144, 162, 168, 118,   4,  66, 175, 153,  62,  87,  55, 142,  69,\n",
       "          2, 108, 162,  91,  19, 144,  26, 151,   6, 171,  92,  95,  13,\n",
       "        161],\n",
       "       [146, 164,  43,  78, 109, 106,  39,  53, 124, 147,  98, 170,  52,\n",
       "         83, 147,  79,  73,  58, 137, 101, 155, 136,  33,  54,  42,  32,\n",
       "         67,  48, 164,  36,  74, 100,  96,  20,  37, 131,  41, 140,  96,\n",
       "         70],\n",
       "       [151, 124, 141,  60,  29,  10,  61, 144, 121, 157, 108,  35, 170,\n",
       "        123, 164,  51,  56,  73,  99,  90, 167,  36,  64, 102,  39, 151,\n",
       "         60, 174, 106,  62,  96,  68,  94,  14,  21,  39, 163, 149,  37,\n",
       "         16],\n",
       "       [ 29, 152,   5,  27, 150,  93,  63,  95, 159,   8,  78,   3,  25,\n",
       "         43,  13,  12, 159,  32, 119,  34, 176,  79,   1, 130,  64,  98,\n",
       "        121, 132, 157,  57, 176,  74, 160, 168, 138,  70,   8, 122, 137,\n",
       "        147],\n",
       "       [ 84, 131, 131, 118,  26,  67,  58,  98, 164,  73,   8, 116, 131,\n",
       "        149,  29, 168, 163, 172,  73,  77, 151,  75, 167,  55, 108,  30,\n",
       "        166, 156,  11,  80,  85, 173, 132, 179,  77, 171,  23, 146,  67,\n",
       "         84],\n",
       "       [ 70, 147, 144, 111,  73,  85, 165, 178,  81,  41,  60,  95,  82,\n",
       "         50,  64, 124, 164,  25,  98,  84,  69, 154,  16, 166,  59,  83,\n",
       "         85, 117, 176, 128,  40, 130,  39,  13,  84,  31,  58, 104,  25,\n",
       "          3]])"
      ]
     },
     "execution_count": 8,
     "metadata": {},
     "output_type": "execute_result"
    }
   ],
   "source": [
    "np.random.randint(180, size=(6,40))"
   ]
  }
 ],
 "metadata": {
  "interpreter": {
   "hash": "44a9cdcbdccbf05a880e90d2e6fe72470baab4d1b82472d890be0596ed887a6b"
  },
  "kernelspec": {
   "display_name": "Python 3.10.2 64-bit",
   "language": "python",
   "name": "python3"
  },
  "language_info": {
   "codemirror_mode": {
    "name": "ipython",
    "version": 3
   },
   "file_extension": ".py",
   "mimetype": "text/x-python",
   "name": "python",
   "nbconvert_exporter": "python",
   "pygments_lexer": "ipython3",
   "version": "3.10.2"
  },
  "orig_nbformat": 4
 },
 "nbformat": 4,
 "nbformat_minor": 2
}
